{
 "cells": [
  {
   "cell_type": "code",
   "execution_count": 2,
   "metadata": {},
   "outputs": [],
   "source": [
    "# Package\n",
    "\n",
    "# import\n",
    "#a.b.c.d.module1 \n",
    "# a.b.c.d.module1.mod()\n",
    "\n",
    "# from import\n",
    "#from a.b.c.d import module1\n",
    "#module1.mod()\n",
    "\n",
    "\n",
    "#alias\n",
    "#from a.b.c.d import module2 as m2\n",
    "#m2.mod()\n",
    "\n",
    "\n",
    "\n",
    "\n",
    "\n"
   ]
  },
  {
   "cell_type": "markdown",
   "metadata": {},
   "source": [
    "### Python 3.3 버전부터는 패키지에 __init__.py라는 파일이 없어도 된다.\n",
    "#### 하지만 하위호환을 위해서 작성권고\n",
    "#### __init__.py에는 __all__ = ['모듈1', '모듈2'] 이런식으로 정의를 해줄 수 있는데\n",
    "#### 의미는 __all__안에 기입한 모듈만 외부에서 import접근을 허용한다는 의미이다.\n",
    ">__init__.py가 비어있으면 모든 모듈을 허가하는듯"
   ]
  }
 ],
 "metadata": {
  "kernelspec": {
   "display_name": "Python 3",
   "language": "python",
   "name": "python3"
  },
  "language_info": {
   "codemirror_mode": {
    "name": "ipython",
    "version": 3
   },
   "file_extension": ".py",
   "mimetype": "text/x-python",
   "name": "python",
   "nbconvert_exporter": "python",
   "pygments_lexer": "ipython3",
   "version": "3.8.5"
  }
 },
 "nbformat": 4,
 "nbformat_minor": 4
}
