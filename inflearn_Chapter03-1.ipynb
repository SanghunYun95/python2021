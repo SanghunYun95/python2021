{
 "cells": [
  {
   "cell_type": "code",
   "execution_count": 3,
   "metadata": {},
   "outputs": [
    {
     "name": "stdout",
     "output_type": "stream",
     "text": [
      "<class 'str'>\n",
      "<class 'bool'>\n",
      "<class 'str'>\n",
      "<class 'float'>\n",
      "<class 'int'>\n",
      "<class 'list'>\n",
      "<class 'dict'>\n",
      "<class 'tuple'>\n",
      "<class 'set'>\n"
     ]
    }
   ],
   "source": [
    "# 파이썬 자료형\n",
    "\"\"\"\n",
    "int : 정수\n",
    "float : 실수\n",
    "complex : 복소수\n",
    "bool : 불린\n",
    "str : 문자열(시퀀스)\n",
    "list : 리스트(시퀀스)\n",
    "tuple : 튜플(시퀀스)\n",
    "set : 집합\n",
    "dict : 사전\n",
    "\"\"\"\n",
    "\n",
    "\n",
    "#데이터 타입\n",
    "str1 = \"Python\"\n",
    "bool = True\n",
    "str2 = 'Anaconda'\n",
    "float = 10.0\n",
    "int = 7\n",
    "list = [str1, str2]\n",
    "dict = {\n",
    "    \"name\": \"Machine Learning\",\n",
    "    \"version\": 2.0\n",
    "}\n",
    "tuple = (7, 8, 9)  # () 없이 사용 가능\n",
    "set = {3, 5, 7}\n",
    "\n",
    "\n",
    "print(type(str1))\n",
    "print(type(bool))\n",
    "print(type(str2))\n",
    "print(type(float))\n",
    "print(type(int))\n",
    "print(type(list))\n",
    "print(type(dict))\n",
    "print(type(tuple))\n",
    "print(type(set))\n",
    "\n"
   ]
  },
  {
   "cell_type": "code",
   "execution_count": 9,
   "metadata": {},
   "outputs": [
    {
     "name": "stdout",
     "output_type": "stream",
     "text": [
      "big_int1 + big_int2 =  12325874370376989337420123426096789589783579\n",
      "(3+0j)\n",
      "12 4\n"
     ]
    }
   ],
   "source": [
    "# 숫자형 연산자\n",
    "\"\"\"\n",
    "+\n",
    "-\n",
    "*\n",
    "/\n",
    "// : 몫\n",
    "% : 나머지\n",
    "abs(x) :절대값\n",
    "pow(x, y) x**y\n",
    "\"\"\"\n",
    "\n",
    "# Java에서는 이렇게 큰 숫자는 따로 bigInt로 처리해줘야 하지만 파이썬은 그냥 쓰면 된다\n",
    "big_int1 = 12325874368239583597935740967387546087430523\n",
    "big_int2 = 2137405739484382458709243502353056\n",
    "\n",
    "print(\"big_int1 + big_int2 = \", big_int1+big_int2)\n",
    "\n",
    "\n",
    "# 복소수; 실수부와 허수부\n",
    "print(complex(3))\n",
    "\n",
    "# x 몫, y 나머지\n",
    "x, y = divmod(100, 8)\n",
    "print(x, y) # 12 4 "
   ]
  },
  {
   "cell_type": "code",
   "execution_count": 10,
   "metadata": {},
   "outputs": [
    {
     "name": "stdout",
     "output_type": "stream",
     "text": [
      "3.141592653589793\n"
     ]
    }
   ],
   "source": [
    "# 외부 모듈\n",
    "\n",
    "import math\n",
    "print(math.pi)\n",
    "\n"
   ]
  }
 ],
 "metadata": {
  "kernelspec": {
   "display_name": "Python 3",
   "language": "python",
   "name": "python3"
  },
  "language_info": {
   "codemirror_mode": {
    "name": "ipython",
    "version": 3
   },
   "file_extension": ".py",
   "mimetype": "text/x-python",
   "name": "python",
   "nbconvert_exporter": "python",
   "pygments_lexer": "ipython3",
   "version": "3.8.5"
  }
 },
 "nbformat": 4,
 "nbformat_minor": 4
}
