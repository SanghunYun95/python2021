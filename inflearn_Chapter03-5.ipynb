{
 "cells": [
  {
   "cell_type": "code",
   "execution_count": 22,
   "metadata": {},
   "outputs": [
    {
     "name": "stdout",
     "output_type": "stream",
     "text": [
      "{'Name': 'OneMan', 'City': 'Seoul'} {'Name': 'TwoMen', 'Age': 33} {'Name': 'Lee', 'Grade': 'A'}\n",
      "Kim\n",
      "Kim\n",
      "{'Name': 'Lee', 'Grade': 'A', 'Status': 'student'}\n",
      "3\n",
      "['name', 'phone']\n",
      "dict_keys(['Name', 'Age'])\n",
      "dict_values(['TwoMen', 33])\n",
      "dict_items([('Name', 'TwoMen'), ('Age', 33)])\n",
      "('Age', 33)\n",
      "{'Name': 'TwoMen'}\n",
      "False\n",
      "{'name': 'alpha', 'sex': 'female'}\n",
      "{'name': 'alpha', 'sex': 'male', 'address': 'busan'}\n"
     ]
    }
   ],
   "source": [
    "# Dictionary\n",
    "# 순서 x, 키 중복 x, 수정 o, 삭제 o\n",
    "\n",
    "a = {'name': 'Kim', 'phone': '0103333543'}\n",
    "b = {0: 'Hello'} # key는 숫자도 가능하다\n",
    "# c 형태는 잘 쓰이지 않으나, 정확한 문법이다\n",
    "c = dict([\n",
    "    ('Name', 'OneMan'),\n",
    "    ('City', 'Seoul')\n",
    "])\n",
    "d = dict(\n",
    "    Name= 'TwoMen',\n",
    "    Age = 33\n",
    ")\n",
    "e = {\n",
    "    'Name': 'Lee',\n",
    "    'Grade': 'A'\n",
    "}\n",
    "\n",
    "# 선언 방법이 달라도 결과는 같다\n",
    "print(c, d, e)\n",
    "\n",
    "\n",
    "# !! get()을 통해서 가져오는 것이 안정적이다\n",
    "print(a['name'])      # 만약 키가 존재하지 않는 경우 Error발생\n",
    "print(a.get('name'))  # ''                           None 출력\n",
    "\n",
    "# 추가\n",
    "e['Status'] = 'student'\n",
    "print(e)\n",
    "\n",
    "\n",
    "print(len(e)) # key의 길이\n",
    "print(list(a.keys()))\n",
    "print(d.keys())\n",
    "print(d.values())\n",
    "print(d.items())\n",
    "print(d.popitem()) # Dictionary는 순서가 없기 때문에 랜덤으로 뽑아온다, 근데 보통 마지막꺼를 뽑는거 같다?\n",
    "print(d)\n",
    "\n",
    "# key가 있는지 확인\n",
    "print('birth' in c)\n",
    "\n",
    "\n",
    "# 수정\n",
    "v = {\n",
    "    'name': 'alpha'\n",
    "}\n",
    "\n",
    "v['sex'] = 'male'\n",
    "v['sex'] = 'female'\n",
    "print(v)\n",
    "\n",
    "v.update(sex = 'male')\n",
    "v.update(address = 'busan')\n",
    "print(v)"
   ]
  }
 ],
 "metadata": {
  "kernelspec": {
   "display_name": "Python 3",
   "language": "python",
   "name": "python3"
  },
  "language_info": {
   "codemirror_mode": {
    "name": "ipython",
    "version": 3
   },
   "file_extension": ".py",
   "mimetype": "text/x-python",
   "name": "python",
   "nbconvert_exporter": "python",
   "pygments_lexer": "ipython3",
   "version": "3.8.5"
  }
 },
 "nbformat": 4,
 "nbformat_minor": 4
}
