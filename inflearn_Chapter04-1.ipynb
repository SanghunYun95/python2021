{
 "cells": [
  {
   "cell_type": "code",
   "execution_count": 5,
   "metadata": {},
   "outputs": [
    {
     "name": "stdout",
     "output_type": "stream",
     "text": [
      "and :  True\n",
      "or :  True\n",
      "not :  False\n",
      "False\n",
      "True\n"
     ]
    }
   ],
   "source": [
    "# 논리연산자\n",
    "# and, or, not\n",
    "\n",
    "a = 75\n",
    "b = 40\n",
    "c = 10\n",
    "\n",
    "print('and : ', a > b and b >c)\n",
    "print('or : ', a > b or b >c)\n",
    "print('not : ', not a > b)\n",
    "print(not True)\n",
    "print(not False)"
   ]
  },
  {
   "cell_type": "code",
   "execution_count": 8,
   "metadata": {},
   "outputs": [
    {
     "name": "stdout",
     "output_type": "stream",
     "text": [
      "e1 : True\n",
      "e2 : True\n"
     ]
    }
   ],
   "source": [
    "# 산수르 관계, 논리 우선순위\n",
    "# 산술 > 관계 > 논리\n",
    "print('e1 :', 3 + 12 > 7 + 3)\n",
    "print('e2 :', 5 + 10 > 3 and 7 + 3 == 10) # 15 > 3 and 10 == 10  --> True and True --> True"
   ]
  },
  {
   "cell_type": "code",
   "execution_count": 12,
   "metadata": {},
   "outputs": [
    {
     "name": "stdout",
     "output_type": "stream",
     "text": [
      "Pass\n",
      "관리자 입장\n",
      "슈퍼 관리자\n"
     ]
    }
   ],
   "source": [
    "score1 = 90\n",
    "score2 = 'A'\n",
    "\n",
    "# 복수의 조건이 모두 참일 경우에 실행\n",
    "if score1 >= 90 and score2 == 'A':\n",
    "    print('Pass')\n",
    "else: \n",
    "    print('Fail')\n",
    "    \n",
    "\n",
    "\n",
    "id1 = 'vip'\n",
    "id2 = 'admin'\n",
    "grade = 'platinum'\n",
    "\n",
    "if id1 == 'vip' or vip2 == 'admin':\n",
    "    print('관리자 입장')\n",
    "    \n",
    "if id2 == 'admin' and grade == 'platinum':\n",
    "    print('슈퍼 관리자')"
   ]
  }
 ],
 "metadata": {
  "kernelspec": {
   "display_name": "Python 3",
   "language": "python",
   "name": "python3"
  },
  "language_info": {
   "codemirror_mode": {
    "name": "ipython",
    "version": 3
   },
   "file_extension": ".py",
   "mimetype": "text/x-python",
   "name": "python",
   "nbconvert_exporter": "python",
   "pygments_lexer": "ipython3",
   "version": "3.8.5"
  }
 },
 "nbformat": 4,
 "nbformat_minor": 4
}
