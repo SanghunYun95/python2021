{
 "cells": [
  {
   "cell_type": "code",
   "execution_count": 5,
   "metadata": {},
   "outputs": [
    {
     "name": "stdout",
     "output_type": "stream",
     "text": [
      "and :  True\n",
      "or :  True\n",
      "not :  False\n",
      "False\n",
      "True\n"
     ]
    }
   ],
   "source": [
    "# 논리연산자\n",
    "# and, or, not\n",
    "\n",
    "a = 75\n",
    "b = 40\n",
    "c = 10\n",
    "\n",
    "print('and : ', a > b and b >c)\n",
    "print('or : ', a > b or b >c)\n",
    "print('not : ', not a > b)\n",
    "print(not True)\n",
    "print(not False)"
   ]
  },
  {
   "cell_type": "code",
   "execution_count": 6,
   "metadata": {},
   "outputs": [
    {
     "name": "stdout",
     "output_type": "stream",
     "text": [
      "e1 : True\n"
     ]
    }
   ],
   "source": [
    "# 산수르 관계, 논리 우선순위\n",
    "# 산술 > 관계 > 논리\n",
    "print('e1 :', 3+12 > 7+3)"
   ]
  }
 ],
 "metadata": {
  "kernelspec": {
   "display_name": "Python 3",
   "language": "python",
   "name": "python3"
  },
  "language_info": {
   "codemirror_mode": {
    "name": "ipython",
    "version": 3
   },
   "file_extension": ".py",
   "mimetype": "text/x-python",
   "name": "python",
   "nbconvert_exporter": "python",
   "pygments_lexer": "ipython3",
   "version": "3.8.5"
  }
 },
 "nbformat": 4,
 "nbformat_minor": 4
}
