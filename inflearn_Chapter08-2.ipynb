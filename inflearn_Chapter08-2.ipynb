{
 "cells": [
  {
   "cell_type": "code",
   "execution_count": 18,
   "metadata": {},
   "outputs": [
    {
     "name": "stdout",
     "output_type": "stream",
     "text": [
      "{1: 'python', 2: 'study', 3: 'basic'} <class 'dict'>\n",
      "1611390583.7144458\n",
      "time.struct_time(tm_year=2021, tm_mon=1, tm_mday=23, tm_hour=17, tm_min=29, tm_sec=43, tm_wday=5, tm_yday=23, tm_isdst=0)\n",
      "Sat Jan 23 17:29:43 2021\n",
      "2021-01-23 17:29:43\n",
      "0.5678668601681012\n",
      "27\n",
      "7\n",
      "[4, 5, 2, 3, 1]\n",
      "5\n"
     ]
    },
    {
     "data": {
      "text/plain": [
       "True"
      ]
     },
     "execution_count": 18,
     "metadata": {},
     "output_type": "execute_result"
    }
   ],
   "source": [
    "# External 함수\n",
    "# sys, pickle, shutil, temfile, time, radmon ...\n",
    "\n",
    "# pickle: 객체 파일 쓰기     dictionary, list, tuple이런걸 저장할 수 있다\n",
    "import pickle\n",
    "\n",
    "#                    write binary\n",
    "f = open('test.obj', 'wb')\n",
    "obj = {1: 'python', 2:'study', 3:'basic'}\n",
    "pickle.dump(obj, f)\n",
    "f.close()\n",
    "\n",
    "# 읽기\n",
    "r = open('test.obj', 'rb')\n",
    "data = pickle.load(r)\n",
    "print(data, type(data))\n",
    "f.close()\n",
    "\n",
    "\n",
    "# os: 환경 변수, 디렉토리(파일) 처리 관련, 운영체제 작업관련\n",
    "# mkdir, rmdir(비어 있으면 삭제), rename\n",
    "\n",
    "# time: 시간 관련처리\n",
    "import time\n",
    "\n",
    "print(time.time())\n",
    "print(time.localtime(time.time()))\n",
    "print(time.ctime())\n",
    "print(time.strftime('%Y-%m-%d %H:%M:%S', time.localtime(time.time())))\n",
    "\n",
    "#for i in  range(5):\n",
    "#    print(i)\n",
    "#    time.sleep(2)\n",
    "    \n",
    "    \n",
    "# random\n",
    "import random\n",
    "print(random.random()) # 0 ~ 1 실수\n",
    "print(random.randint(1, 45)) # 1 ~ 45 사이에 int\n",
    "print(random.randrange(1, 45)) # 1 ~ 44 사이에 int\n",
    "\n",
    "d = [1,2,3,4,5]\n",
    "random.shuffle(d)\n",
    "print(d)\n",
    "\n",
    "c = random.choice(d)\n",
    "print(c)\n",
    "\n",
    "# webbrowser: 본인 OS의 웹 브라우저 실행\n",
    "import webbrowser\n",
    "webbrowser.open('http://google.com')\n",
    "webbrowser.open_new('http://google.com')\n"
   ]
  },
  {
   "cell_type": "code",
   "execution_count": null,
   "metadata": {},
   "outputs": [],
   "source": []
  }
 ],
 "metadata": {
  "kernelspec": {
   "display_name": "Python 3",
   "language": "python",
   "name": "python3"
  },
  "language_info": {
   "codemirror_mode": {
    "name": "ipython",
    "version": 3
   },
   "file_extension": ".py",
   "mimetype": "text/x-python",
   "name": "python",
   "nbconvert_exporter": "python",
   "pygments_lexer": "ipython3",
   "version": "3.8.5"
  }
 },
 "nbformat": 4,
 "nbformat_minor": 4
}
