{
 "cells": [
  {
   "cell_type": "code",
   "execution_count": 27,
   "metadata": {},
   "outputs": [
    {
     "name": "stdout",
     "output_type": "stream",
     "text": [
      "<class '__main__.Dog'>\n",
      "False 1823741479472 1823741477072\n",
      "dog1 {'name': '아스벤야', 'age': 2}\n",
      "dog2 {'name': '발발이', 'age': 3}\n",
      "치와와\n",
      "치와와\n",
      "아스벤야 is 2years old 치와와 and 발발이 is 3years old 치와와\n",
      "1823709062416\n",
      "1823741353872\n",
      "1823741353872\n",
      "1823741353872\n",
      "-------------\n",
      "False\n",
      "True\n"
     ]
    }
   ],
   "source": [
    "# Class\n",
    "# OOP, Slef, 인스턴스 메소드, 인스턴스 변수\n",
    "\n",
    "# 클래스와 인스턴스 차이\n",
    "# 네임스페이스: 객체를 인스턴스화 할 때 저장된 공간\n",
    "# 클래스 변수: 직접 접근 가능\n",
    "# 인스턴스 변수: 객체마다 별도로 존재\n",
    "\n",
    "# 1\n",
    "class Dog:    # object를 상송받는다.   class Dog(): classDog(object): class Dog: 세가지 형식 다 상관없음\n",
    "    # 클래스 속성\n",
    "    species = '치와와'\n",
    "    # 초기화/인스턴스 속성        한번 호출됨\n",
    "    def __init__(self, name, age):\n",
    "        self.name = name\n",
    "        self.age = age\n",
    "\n",
    "        \n",
    "# 클래스 정보\n",
    "print(Dog)\n",
    "\n",
    "# 인스턴스화\n",
    "a = Dog(\"아스벤야\", 2)\n",
    "b = Dog(\"발발이\", 3)\n",
    "\n",
    "# 비교\n",
    "print(a == b, id(a), id(b))\n",
    "\n",
    "# 네임스페이스\n",
    "print('dog1', a.__dict__)   # dictionary 형태\n",
    "print('dog2', b.__dict__)\n",
    "\n",
    "# 클래스 속성은 모든 인스턴스 공용\n",
    "print(a.species)\n",
    "print(b.species)\n",
    "        \n",
    "# 인스턴스 속성 확인\n",
    "print('{} is {}years old {} and {} is {}years old {}'.format(a.name, a.age, Dog.species, b.name, b.age, Dog.species))\n",
    "\n",
    "print(id(Dog))\n",
    "print(id(Dog.species))\n",
    "print(id(a.species))\n",
    "print(id(b.species))\n",
    "print('-------------')\n",
    "\n",
    "print(id(Dog) == id(a) == id(b))\n",
    "print(id(Dog.species) == id(a.species) == id(b.species))"
   ]
  },
  {
   "cell_type": "code",
   "execution_count": 34,
   "metadata": {},
   "outputs": [
    {
     "name": "stdout",
     "output_type": "stream",
     "text": [
      "1823748452416\n",
      "Func1 called\n",
      "Func2 called\n",
      "1823748452416\n",
      "Func2 called\n",
      "1823748452416\n"
     ]
    }
   ],
   "source": [
    "# 2\n",
    "# self\n",
    "class SelfTest:\n",
    "    def func1():                      # 클래스 메소드\n",
    "        print('Func1 called')\n",
    "    def func2(self):                  # 인스턴스 메소드\n",
    "        print('Func2 called')\n",
    "        print(id(self))\n",
    "\n",
    "f = SelfTest()\n",
    "\n",
    "# print(dir(f))\n",
    "print(id(f))\n",
    "# f.func1()     # TypeError: func1() takes 0 positional arguments but 1 was given \n",
    "                # SelfTest에서 func1은 매게변수를 받지않는다 -> 즉, 클래스 메소드이다\n",
    "SelfTest.func1()\n",
    "\n",
    "\n",
    "\n",
    "f.func2()\n",
    "                # SelfTest의 func2는 self를 받는데 이 self는 인스턴스이다.\n",
    "                # 즉, 여기서 f는 self와 같음을 알 수 있다.\n",
    "SelfTest.func2(f) # 따라서 이와 같이 호출도 가능하다 \n",
    "\n",
    "\n",
    "\n",
    "\n",
    "\n",
    "\n",
    "#### 정리:\n",
    "# 클래스에서 self가 없는 함수는 클래스 메소드이다. 직접 접근이 가능하다.\n",
    "\n",
    "# ''                있는 함수는 인스턴스 메소드이다. 인스턴스를 통해 호출이 가능하다,\n",
    "                 #  또는 직접호출에 인스턴스를 넘겨서 호출 가능하다"
   ]
  },
  {
   "cell_type": "code",
   "execution_count": 39,
   "metadata": {},
   "outputs": [
    {
     "name": "stdout",
     "output_type": "stream",
     "text": [
      "Jelly\n",
      "Shoes\n",
      "{'name': 'Jelly'}\n",
      "{'name': 'Shoes'}\n",
      "{'__module__': '__main__', 'stock_num': 1, '__init__': <function Warehouse.__init__ at 0x000001A89F7358B0>, '__del__': <function Warehouse.__del__ at 0x000001A89F735E50>, '__dict__': <attribute '__dict__' of 'Warehouse' objects>, '__weakref__': <attribute '__weakref__' of 'Warehouse' objects>, '__doc__': None}\n",
      "1\n",
      "after delete:  0\n"
     ]
    }
   ],
   "source": [
    "# 3\n",
    "class Warehouse:\n",
    "    # 클래스 변수\n",
    "    stock_num = 0 # 재고\n",
    "    \n",
    "    # 인스턴스 생성 시 호출\n",
    "    def __init__(self, name):\n",
    "        # 인스턴스 변수\n",
    "        self.name = name\n",
    "        Warehouse.stock_num += 1\n",
    "        \n",
    "    # 인스턴스 소멸 시 호출\n",
    "    def __del__(self):\n",
    "        Warehouse.stock_num -= 1\n",
    "        \n",
    "good1 = Warehouse('Jelly')\n",
    "good2 = Warehouse('Shoes')\n",
    "\n",
    "\n",
    "\n",
    "print(good1.name)\n",
    "print(good2.name)\n",
    "\n",
    "# 인스턴스의 namespace에서 good1.__dict__     클래스 변수를 굳이 표시하지는 않는다\n",
    "# 모든 인스턴스가 공유하기 때문에\n",
    "print(good1.__dict__)\n",
    "print(good2.__dict__)\n",
    "# 인스턴스의 네임스페이스에 없다면 클래에서 찾는다.\n",
    "print(Warehouse.__dict__)\n",
    "\n",
    "# 다만 직접 이렇게 인스턴스를 통해 호출 할 수는 있다\n",
    "print(good1.stock_num)\n",
    "\n",
    "# 인스턴스 변수를 직접 변경하지 못하도록 은닉화가 필요하다\n",
    "#Warehouse.stock_num = 50;\n",
    "#print(Warehouse.stock_num)\n",
    "\n",
    "del good1\n",
    "print('after delete: ', Warehouse.stock_num)"
   ]
  },
  {
   "cell_type": "code",
   "execution_count": 45,
   "metadata": {},
   "outputs": [
    {
     "name": "stdout",
     "output_type": "stream",
     "text": [
      "Juli is 4 years old\n",
      "Juli syas 택배왔다!!\n",
      "Medusa is 15 years old\n",
      "Medusa syas 민지왔쪄염!\n"
     ]
    }
   ],
   "source": [
    "# 4\n",
    "class Parrot:\n",
    "    # 클래스 속성\n",
    "    species = '앵무새'\n",
    "    # 초기화/인스턴스 속성       \n",
    "    def __init__(self, name, age):\n",
    "        self.name = name\n",
    "        self.age = age\n",
    "    \n",
    "    def info(self):\n",
    "        return '{} is {} years old'.format(self.name, self.age)\n",
    "    \n",
    "    def speak(self, sound):\n",
    "        return '{} syas {}!'.format(self.name, sound)\n",
    "    \n",
    "c = Parrot('Juli', 4)\n",
    "print(c.info())\n",
    "print(c.speak('택배왔다!'))\n",
    "\n",
    "d = Parrot('Medusa', 15)\n",
    "print(d.info())\n",
    "print(d.speak('민지왔쪄염'))"
   ]
  }
 ],
 "metadata": {
  "kernelspec": {
   "display_name": "Python 3",
   "language": "python",
   "name": "python3"
  },
  "language_info": {
   "codemirror_mode": {
    "name": "ipython",
    "version": 3
   },
   "file_extension": ".py",
   "mimetype": "text/x-python",
   "name": "python",
   "nbconvert_exporter": "python",
   "pygments_lexer": "ipython3",
   "version": "3.8.5"
  }
 },
 "nbformat": 4,
 "nbformat_minor": 4
}
