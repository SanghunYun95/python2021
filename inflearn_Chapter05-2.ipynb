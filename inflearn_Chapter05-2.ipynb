{
 "cells": [
  {
   "cell_type": "code",
   "execution_count": null,
   "metadata": {},
   "outputs": [],
   "source": [
    "# 사용자 입력\n",
    "# Input\n",
    "# 기본 타입(str)\n",
    "\n",
    "# 1\n",
    "# name = input(\"Enter Your Name: \")\n",
    "# grade = input(\"Enter Your Grade: \")\n",
    "# company = input(\"Enter Your Company: \")\n",
    "\n",
    "# print(name, grade, company)\n",
    "\n",
    "# # 2\n",
    "# number = input(\"Enter number: \")\n",
    "# name = input(\"Enter name: \")\n",
    "# print(\"type of number\", type(number), number * 3)   # str형이기 때문에 5를 입력하면 555가 출력된다\n",
    "# print(\"type of name\", type(name))\n",
    "\n",
    "# # 3\n",
    "# first_number = int(input(\"Enter num1: \"))\n",
    "# second_number = int(input(\"Enter num1: \"))\n",
    "# total = first_number + second_number\n",
    "# print(total)\n",
    "\n",
    "# 4\n",
    "print(\"First = {0}, LastName - {1}\".format(input(\"Enter first : \"), input(\"Enter second : \")))\n"
   ]
  }
 ],
 "metadata": {
  "kernelspec": {
   "display_name": "Python 3",
   "language": "python",
   "name": "python3"
  },
  "language_info": {
   "codemirror_mode": {
    "name": "ipython",
    "version": 3
   },
   "file_extension": ".py",
   "mimetype": "text/x-python",
   "name": "python",
   "nbconvert_exporter": "python",
   "pygments_lexer": "ipython3",
   "version": "3.8.5"
  }
 },
 "nbformat": 4,
 "nbformat_minor": 4
}
