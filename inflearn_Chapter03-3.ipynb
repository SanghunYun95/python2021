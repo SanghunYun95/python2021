{
 "cells": [
  {
   "cell_type": "code",
   "execution_count": 18,
   "metadata": {},
   "outputs": [
    {
     "name": "stdout",
     "output_type": "stream",
     "text": [
      "d : Captine\n",
      "e : 10000.1\n",
      "['A', 'c', 'e']\n",
      "[1000, 10000.1, 'Ace', 'Base', 'Captine', 2000, False, [1000, 10000.1, 'Ace', 'Base', 'Captine']]\n",
      "[70, 75, 80, 85, 70, 75, 80, 85, 70, 75, 80, 85]\n",
      "2461097965440\n",
      "2461097965440\n",
      "True\n",
      "[1000, 'a', 'b', 'c', 'Ace', 'Base', 'Captine']\n",
      "[1000, ['a', 'b', 'c'], 'b', 'c', 'Ace', 'Base', 'Captine']\n",
      "[1000, ['a', 'b', 'c'], 'b', 'c', 'Ace', 'Base']\n",
      "[['a', 'b', 'c'], 'b', 'c', 'Ace', 'Base']\n",
      "[['a', 'b', 'c'], 'b', 'c', 'Ace']\n"
     ]
    }
   ],
   "source": [
    "# 리스트 (배열)\n",
    "# 순서 o, 중복 o, 수정 o, 삭제o\n",
    "\n",
    "# 선언\n",
    "a= []\n",
    "b = list()\n",
    "c = [70, 75, 80, 85]\n",
    "d = [1000, 10000.1, 'Ace', 'Base', 'Captine']\n",
    "e = [2000, False, [1000, 10000.1, 'Ace', 'Base', 'Captine']]\n",
    "\n",
    "\n",
    "print('d :', d[-1])  # 에러가 아닌 리스트의 마지막 Captine을 가져옴 -는 역순이기 때문에\n",
    "print('e :', e[-1][1]) \n",
    "print(list(e[-1][2]))\n",
    "print(d + e)\n",
    "print(c * 3)\n",
    "\n",
    "# list 얕은복사\n",
    "temp = e\n",
    "print(id(temp))\n",
    "print(id(e))\n",
    "print(id(temp) == id(e))\n",
    "\n",
    "d[1:2] = ['a', 'b', 'c']   # 1번인덱스를 slice해서 그자리에 list를 넣으면 리스트안에 \"원소\"로 들어간다\n",
    "print(d)\n",
    "d[1] = ['a', 'b', 'c']     # 1번 인덱스를 지정해서 리스트를 할당하면 리스트 그대로 들어간다\n",
    "print(d)\n",
    "\n",
    "# 원소 삭제\n",
    "del d[-1]\n",
    "print(d)\n",
    "\n",
    "# del은 원소의 index를 통해서 지우기 때문에 효율성이 안좋다\n",
    "# remove(삭제할 값)\n",
    "d.remove(1000) # 1000이라는 값이 어떤 위치에 있는지 고려할 필요없다\n",
    "print(d)\n",
    "\n",
    "d.pop()\n",
    "print(d)"
   ]
  },
  {
   "cell_type": "code",
   "execution_count": 20,
   "metadata": {},
   "outputs": [
    {
     "name": "stdout",
     "output_type": "stream",
     "text": [
      "[5, 2, 3, 1, 4, 10]\n",
      "[5, 2, 7, 3, 1, 4, 10]\n",
      "[1, 2, 3, 4, 5, 7, 10]\n",
      "[10, 7, 5, 4, 3, 2, 1]\n",
      "[10, 7, 5, 4, 3, 2, 1, 8, 9]\n"
     ]
    }
   ],
   "source": [
    "# 리스트 함수\n",
    "a = [5, 2, 3, 1, 4]\n",
    "\n",
    "# 원소 추가\n",
    "# a[5] = 10   Error: out of range\n",
    "a.append(10)\n",
    "print(a)\n",
    "a.insert(2, 7) # 인덱스 지정, 2번 인덱스에 7을 삽입하고 나머지는 뒤로 민다\n",
    "print(a)\n",
    "\n",
    "a.sort()\n",
    "print(a)\n",
    "a.reverse()\n",
    "print(a)\n",
    "\n",
    "# 1의 갯수를 반환 \n",
    "a.count(1)\n",
    "\n",
    "ex = [8, 9]\n",
    "a.extend(ex)\n",
    "print(a)\n",
    "\n"
   ]
  }
 ],
 "metadata": {
  "kernelspec": {
   "display_name": "Python 3",
   "language": "python",
   "name": "python3"
  },
  "language_info": {
   "codemirror_mode": {
    "name": "ipython",
    "version": 3
   },
   "file_extension": ".py",
   "mimetype": "text/x-python",
   "name": "python",
   "nbconvert_exporter": "python",
   "pygments_lexer": "ipython3",
   "version": "3.8.5"
  }
 },
 "nbformat": 4,
 "nbformat_minor": 4
}
