{
 "cells": [
  {
   "cell_type": "markdown",
   "metadata": {},
   "source": [
    "#### 파일 읽기 및 쓰기\n",
    "#### 읽기 모드: r\n",
    "#### 쓰기 모드: w\n",
    "#### 추가 모드 a\n",
    "#### 텍스트 모드: t, 바이너리 모드: b\n"
   ]
  },
  {
   "cell_type": "code",
   "execution_count": 9,
   "metadata": {},
   "outputs": [
    {
     "name": "stdout",
     "output_type": "stream",
     "text": [
      "./lorem_ipsum.txt\n",
      "r\n",
      "Lorem Ipsum is simply dummy text of the printing and typesetting industry. Lorem Ipsum has been the industry's standard dummy text ever since the 1500s, when an unknown printer took a galley of type and scrambled it to make a type specimen book. It has survived not only five centuries, but also the leap into electronic typesetting, remaining essentially unchanged. It was popularised in the 1960s with the release of Letraset sheets containing Lorem Ipsum passages, and more recently with desktop publishing software like Aldus PageMaker including versions of Lorem Ipsum.\n"
     ]
    }
   ],
   "source": [
    "f = open('./lorem_ipsum.txt', 'r', encoding='UTF-8') # 기본이 UTF-8\n",
    "# 속성 확인\n",
    "#print(dir(f))\n",
    "print(f.name)\n",
    "print(f.mode)\n",
    "cts = f.read()\n",
    "print(cts)\n",
    "f.close()"
   ]
  },
  {
   "cell_type": "code",
   "execution_count": 12,
   "metadata": {},
   "outputs": [
    {
     "name": "stdout",
     "output_type": "stream",
     "text": [
      "Lorem Ipsum is simply dummy text of the printing and typesetting industry. Lorem Ipsum has been the industry's standard dummy text ever since the 1500s, when an unknown printer took a galley of type and scrambled it to make a type specimen book. It has survived not only five centuries, but also the leap into electronic typesetting, remaining essentially unchanged. It was popularised in the 1960s with the release of Letraset sheets containing Lorem Ipsum passages, and more recently with desktop publishing software like Aldus PageMaker including versions of Lorem Ipsum.\n",
      "<str_iterator object at 0x00000233114EBF10>\n",
      "['L', 'o', 'r', 'e', 'm', ' ', 'I', 'p', 's', 'u', 'm', ' ', 'i', 's', ' ', 's', 'i', 'm', 'p', 'l', 'y', ' ', 'd', 'u', 'm', 'm', 'y', ' ', 't', 'e', 'x', 't', ' ', 'o', 'f', ' ', 't', 'h', 'e', ' ', 'p', 'r', 'i', 'n', 't', 'i', 'n', 'g', ' ', 'a', 'n', 'd', ' ', 't', 'y', 'p', 'e', 's', 'e', 't', 't', 'i', 'n', 'g', ' ', 'i', 'n', 'd', 'u', 's', 't', 'r', 'y', '.', ' ', 'L', 'o', 'r', 'e', 'm', ' ', 'I', 'p', 's', 'u', 'm', ' ', 'h', 'a', 's', ' ', 'b', 'e', 'e', 'n', ' ', 't', 'h', 'e', ' ', 'i', 'n', 'd', 'u', 's', 't', 'r', 'y', \"'\", 's', ' ', 's', 't', 'a', 'n', 'd', 'a', 'r', 'd', ' ', 'd', 'u', 'm', 'm', 'y', ' ', 't', 'e', 'x', 't', ' ', 'e', 'v', 'e', 'r', ' ', 's', 'i', 'n', 'c', 'e', ' ', 't', 'h', 'e', ' ', '1', '5', '0', '0', 's', ',', ' ', 'w', 'h', 'e', 'n', ' ', 'a', 'n', ' ', 'u', 'n', 'k', 'n', 'o', 'w', 'n', ' ', 'p', 'r', 'i', 'n', 't', 'e', 'r', ' ', 't', 'o', 'o', 'k', ' ', 'a', ' ', 'g', 'a', 'l', 'l', 'e', 'y', ' ', 'o', 'f', ' ', 't', 'y', 'p', 'e', ' ', 'a', 'n', 'd', ' ', 's', 'c', 'r', 'a', 'm', 'b', 'l', 'e', 'd', ' ', 'i', 't', ' ', 't', 'o', ' ', 'm', 'a', 'k', 'e', ' ', 'a', ' ', 't', 'y', 'p', 'e', ' ', 's', 'p', 'e', 'c', 'i', 'm', 'e', 'n', ' ', 'b', 'o', 'o', 'k', '.', ' ', 'I', 't', ' ', 'h', 'a', 's', ' ', 's', 'u', 'r', 'v', 'i', 'v', 'e', 'd', ' ', 'n', 'o', 't', ' ', 'o', 'n', 'l', 'y', ' ', 'f', 'i', 'v', 'e', ' ', 'c', 'e', 'n', 't', 'u', 'r', 'i', 'e', 's', ',', ' ', 'b', 'u', 't', ' ', 'a', 'l', 's', 'o', ' ', 't', 'h', 'e', ' ', 'l', 'e', 'a', 'p', ' ', 'i', 'n', 't', 'o', ' ', 'e', 'l', 'e', 'c', 't', 'r', 'o', 'n', 'i', 'c', ' ', 't', 'y', 'p', 'e', 's', 'e', 't', 't', 'i', 'n', 'g', ',', ' ', 'r', 'e', 'm', 'a', 'i', 'n', 'i', 'n', 'g', ' ', 'e', 's', 's', 'e', 'n', 't', 'i', 'a', 'l', 'l', 'y', ' ', 'u', 'n', 'c', 'h', 'a', 'n', 'g', 'e', 'd', '.', ' ', 'I', 't', ' ', 'w', 'a', 's', ' ', 'p', 'o', 'p', 'u', 'l', 'a', 'r', 'i', 's', 'e', 'd', ' ', 'i', 'n', ' ', 't', 'h', 'e', ' ', '1', '9', '6', '0', 's', ' ', 'w', 'i', 't', 'h', ' ', 't', 'h', 'e', ' ', 'r', 'e', 'l', 'e', 'a', 's', 'e', ' ', 'o', 'f', ' ', 'L', 'e', 't', 'r', 'a', 's', 'e', 't', ' ', 's', 'h', 'e', 'e', 't', 's', ' ', 'c', 'o', 'n', 't', 'a', 'i', 'n', 'i', 'n', 'g', ' ', 'L', 'o', 'r', 'e', 'm', ' ', 'I', 'p', 's', 'u', 'm', ' ', 'p', 'a', 's', 's', 'a', 'g', 'e', 's', ',', ' ', 'a', 'n', 'd', ' ', 'm', 'o', 'r', 'e', ' ', 'r', 'e', 'c', 'e', 'n', 't', 'l', 'y', ' ', 'w', 'i', 't', 'h', ' ', 'd', 'e', 's', 'k', 't', 'o', 'p', ' ', 'p', 'u', 'b', 'l', 'i', 's', 'h', 'i', 'n', 'g', ' ', 's', 'o', 'f', 't', 'w', 'a', 'r', 'e', ' ', 'l', 'i', 'k', 'e', ' ', 'A', 'l', 'd', 'u', 's', ' ', 'P', 'a', 'g', 'e', 'M', 'a', 'k', 'e', 'r', ' ', 'i', 'n', 'c', 'l', 'u', 'd', 'i', 'n', 'g', ' ', 'v', 'e', 'r', 's', 'i', 'o', 'n', 's', ' ', 'o', 'f', ' ', 'L', 'o', 'r', 'e', 'm', ' ', 'I', 'p', 's', 'u', 'm', '.']\n",
      "\n"
     ]
    }
   ],
   "source": [
    "# with\n",
    "with open('./lorem_ipsum.txt', 'r', encoding='UTF-8') as f:\n",
    "    c = f.read()\n",
    "    print(c)\n",
    "    print(iter(c))\n",
    "    print(list(c))\n",
    "    # close() 할 필요 없음 with문에서 자동으로 리소스 반환함\n",
    "    \n",
    "print()"
   ]
  },
  {
   "cell_type": "code",
   "execution_count": 22,
   "metadata": {},
   "outputs": [
    {
     "name": "stdout",
     "output_type": "stream",
     "text": [
      "Lorem Ipsum is simply\n",
      " dummy text of the pr\n",
      "inting and typesettin\n",
      "Lorem Ipsum is simply\n",
      "Lorem Ipsum is simply dummy text of the printing and typesetting industry. \n",
      "\n",
      "['Lorem Ipsum is simply dummy text of the printing and typesetting industry. \\n', \"Lorem Ipsum has been the industry's standard dummy text ever since the 1500s, \\n\", 'when an unknown printer took a galley of type and scrambled it to make a type specimen book. \\n', 'It has survived not only five centuries, but also the leap into electronic typesetting, remaining essentially unchanged. It was popularised in the 1960s with the release of Letraset sheets containing Lorem Ipsum passages, and more recently with desktop publishing software like Aldus PageMaker including versions of Lorem Ipsum.']\n",
      "\n",
      "Lorem Ipsum is simply dummy text of the printing and typesetting industry. \n",
      "Lorem Ipsum has been the industry's standard dummy text ever since the 1500s, \n",
      "when an unknown printer took a galley of type and scrambled it to make a type specimen book. \n",
      "It has survived not only five centuries, but also the leap into electronic typesetting, remaining essentially unchanged. It was popularised in the 1960s with the release of Letraset sheets containing Lorem Ipsum passages, and more recently with desktop publishing software like Aldus PageMaker including versions of Lorem Ipsum."
     ]
    }
   ],
   "source": [
    "# with\n",
    "with open('./lorem_ipsum.txt', 'r', encoding='UTF-8') as f:\n",
    "    c = f.read(21) # Byte수를 지정해서 읽어온다\n",
    "    print(c)\n",
    "    c = f.read(21)\n",
    "    print(c)\n",
    "    c = f.read(21)\n",
    "    print(c)\n",
    "    f.seek(0,0)  # 커서를 0으로 초기화 한다, 즉 처음위치로 옮김\n",
    "    c = f.read(21)\n",
    "    print(c)\n",
    "    \n",
    "# readline: 한줄씩 읽기\n",
    "with open('./lorem_ipsum.txt', 'r', encoding='UTF-8') as f:\n",
    "    line = f.readline()\n",
    "    print(line)\n",
    "    \n",
    "    \n",
    "# readlines: 전체를 읽은 후 단위 리스트로 저장\n",
    "with open('./lorem_ipsum.txt', 'r', encoding='UTF-8') as f:\n",
    "    cts = f.readlines()\n",
    "    print(cts)\n",
    "    print()\n",
    "    for c in cts:\n",
    "        print(c, end='')\n",
    "    \n",
    "    "
   ]
  },
  {
   "cell_type": "code",
   "execution_count": 27,
   "metadata": {},
   "outputs": [],
   "source": [
    "# write\n",
    "with open('./lorem_ipsum.txt', 'w') as f:   # w로 하면 기존 내용은 삭제된다\n",
    "        f.write('I love python\\n')\n",
    "        \n",
    "with open('./lorem_ipsum.txt', 'a') as f:   # 뒤에 이어서 쓰고 싶다면 a \n",
    "        f.write('and you?\\n')\n",
    "        \n",
    "# wirtelines: 리스트 -> 파일\n",
    "with open('./lorem_ipsum.txt', 'w') as f:\n",
    "    list = ['Orange\\n', 'Apple\\n', 'Banana\\n', 'Melon\\n']\n",
    "    f.writelines(list)\n",
    "    \n",
    "    \n",
    "with open('./lorem_ipsum.txt', 'a') as f:\n",
    "    print('Test Write', file=f) # 콘솔출력이 아닌 연결된 파일에 출력한다\n",
    "    print('Test Write', file=f)\n",
    "    print('Test Write', file=f)\n",
    "    print('Test Write', file=f)\n",
    "    print('Test Write', file=f)\n",
    "    "
   ]
  }
 ],
 "metadata": {
  "kernelspec": {
   "display_name": "Python 3",
   "language": "python",
   "name": "python3"
  },
  "language_info": {
   "codemirror_mode": {
    "name": "ipython",
    "version": 3
   },
   "file_extension": ".py",
   "mimetype": "text/x-python",
   "name": "python",
   "nbconvert_exporter": "python",
   "pygments_lexer": "ipython3",
   "version": "3.8.5"
  }
 },
 "nbformat": 4,
 "nbformat_minor": 4
}
