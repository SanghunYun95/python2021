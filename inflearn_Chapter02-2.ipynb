{
 "cells": [
  {
   "cell_type": "code",
   "execution_count": 4,
   "metadata": {},
   "outputs": [
    {
     "name": "stdout",
     "output_type": "stream",
     "text": [
      "2680629565776\n",
      "2680629565680\n",
      "2680629566160\n",
      "2680629565616\n",
      "False\n"
     ]
    }
   ],
   "source": [
    "# id (identity) 확인 : 객체의 고유 값 확인\n",
    "\n",
    "m = 800\n",
    "n = 655\n",
    "print(id(m))\n",
    "print(id(n))\n",
    "print(id(m) == id(n))\n",
    "\n",
    "m = 800\n",
    "n = 800\n",
    "print(id(m))\n",
    "print(id(n))\n",
    "print(id(m) == id(n))\n",
    "\n",
    "x = 800\n",
    "y = 800\n",
    "m = 800\n",
    "n = 800\n",
    "print(id(x))\n",
    "print(id(y))\n",
    "print(id(m))\n",
    "print(id(n))\n",
    "print(id(x) == id(y) == id(m) == id(n))\n",
    "\n",
    "\n",
    "\n",
    "# ?? 변수가 달라도 값이 같으면 내부적으로 효율성을 위해서 같은 id를 할당한다는데??"
   ]
  },
  {
   "cell_type": "code",
   "execution_count": 5,
   "metadata": {},
   "outputs": [
    {
     "name": "stdout",
     "output_type": "stream",
     "text": [
      "2680629565840\n",
      "2680629565968\n",
      "False\n"
     ]
    }
   ],
   "source": [
    "# 아무리 해도 Falsed인데...\n",
    "a = 900\n",
    "b = 900\n",
    "print(id(a))\n",
    "print(id(b))\n",
    "print(id(a) == id(b))"
   ]
  }
 ],
 "metadata": {
  "kernelspec": {
   "display_name": "Python 3",
   "language": "python",
   "name": "python3"
  },
  "language_info": {
   "codemirror_mode": {
    "name": "ipython",
    "version": 3
   },
   "file_extension": ".py",
   "mimetype": "text/x-python",
   "name": "python",
   "nbconvert_exporter": "python",
   "pygments_lexer": "ipython3",
   "version": "3.8.5"
  }
 },
 "nbformat": 4,
 "nbformat_minor": 4
}
