{
 "cells": [
  {
   "cell_type": "code",
   "execution_count": 9,
   "metadata": {},
   "outputs": [
    {
     "name": "stdout",
     "output_type": "stream",
     "text": [
      "<_csv.reader object at 0x000002787A8C1040>\n",
      "<class '_csv.reader'>\n",
      "['__class__', '__delattr__', '__dir__', '__doc__', '__eq__', '__format__', '__ge__', '__getattribute__', '__gt__', '__hash__', '__init__', '__init_subclass__', '__iter__', '__le__', '__lt__', '__ne__', '__new__', '__next__', '__reduce__', '__reduce_ex__', '__repr__', '__setattr__', '__sizeof__', '__str__', '__subclasshook__', 'dialect', 'line_num']\n",
      "\n",
      "A :  aaaaa\n",
      "B :  bbbb\n",
      "C :  ccccc\n"
     ]
    }
   ],
   "source": [
    "# CSV\n",
    "import csv\n",
    "\n",
    "with open('./sampleCSV.csv', 'r') as c:\n",
    "    reader = csv.reader(c)\n",
    "    \n",
    "    # CSV 파일은 보통 맨 위가 헤더이기 때문에 Header를 스킵하는 옵션\n",
    "    next(reader)\n",
    "    \n",
    "    print(reader)\n",
    "    print(type(reader))\n",
    "    print(dir(reader)) # __iter__\n",
    "    print()\n",
    "    \n",
    "    for c in reader:\n",
    "            print(' : '.join(c)) # A : aaa 이런형태로 바꿔서 출력할 수 있다"
   ]
  },
  {
   "cell_type": "code",
   "execution_count": 15,
   "metadata": {},
   "outputs": [
    {
     "name": "stdout",
     "output_type": "stream",
     "text": [
      "['Name', 'Code']\n",
      "['A', 'aaa']\n",
      "['B', 'bbb']\n",
      "['C', 'ccc']\n"
     ]
    }
   ],
   "source": [
    "with open('./sampleCSV2.csv', 'r') as c:\n",
    "    reader = csv.reader(c, delimiter='|')  # CSV파일의 구분자가 comma가 아닌 경우 구분자를 지정할 수 있다\n",
    "    \n",
    "    for c in reader:\n",
    "        print(c)"
   ]
  },
  {
   "cell_type": "code",
   "execution_count": 18,
   "metadata": {},
   "outputs": [
    {
     "name": "stdout",
     "output_type": "stream",
     "text": [
      "<csv.DictReader object at 0x000002787AB75370>\n",
      "<class 'csv.DictReader'>\n",
      "['__class__', '__delattr__', '__dict__', '__dir__', '__doc__', '__eq__', '__format__', '__ge__', '__getattribute__', '__gt__', '__hash__', '__init__', '__init_subclass__', '__iter__', '__le__', '__lt__', '__module__', '__ne__', '__new__', '__next__', '__reduce__', '__reduce_ex__', '__repr__', '__setattr__', '__sizeof__', '__str__', '__subclasshook__', '__weakref__', '_fieldnames', 'dialect', 'fieldnames', 'line_num', 'reader', 'restkey', 'restval']\n",
      "\n",
      "Name A\n",
      "Code  aaaaa\n",
      "----------\n",
      "Name B\n",
      "Code  bbbb\n",
      "----------\n",
      "Name C\n",
      "Code  ccccc\n",
      "----------\n"
     ]
    }
   ],
   "source": [
    "with open('./sampleCSV.csv', 'r') as c:\n",
    "    reader = csv.DictReader(c)\n",
    "    print(reader)\n",
    "    print(type(reader))\n",
    "    print(dir(reader))\n",
    "    print()\n",
    "    \n",
    "    for c in reader:\n",
    "        for k,v in c.items():\n",
    "            print(k,v)\n",
    "        print('-'*10)"
   ]
  },
  {
   "cell_type": "code",
   "execution_count": 27,
   "metadata": {},
   "outputs": [
    {
     "name": "stdout",
     "output_type": "stream",
     "text": [
      "['Dialect', 'DictReader', 'DictWriter', 'Error', 'QUOTE_ALL', 'QUOTE_MINIMAL', 'QUOTE_NONE', 'QUOTE_NONNUMERIC', 'Sniffer', 'StringIO', '_Dialect', '__all__', '__builtins__', '__cached__', '__doc__', '__file__', '__loader__', '__name__', '__package__', '__spec__', '__version__', 'excel', 'excel_tab', 'field_size_limit', 'get_dialect', 'list_dialects', 're', 'reader', 'register_dialect', 'unix_dialect', 'unregister_dialect', 'writer']\n",
      "['__class__', '__delattr__', '__dir__', '__doc__', '__eq__', '__format__', '__ge__', '__getattribute__', '__gt__', '__hash__', '__init__', '__init_subclass__', '__le__', '__lt__', '__ne__', '__new__', '__reduce__', '__reduce_ex__', '__repr__', '__setattr__', '__sizeof__', '__str__', '__subclasshook__', 'dialect', 'writerow', 'writerows']\n",
      "<class '_csv.writer'>\n"
     ]
    }
   ],
   "source": [
    "w = [[1,2,3],[4,5,6],[7,8,9],[10,11,12]]\n",
    "\n",
    "with open('writetest.csv', 'w', encoding='UTF-8') as f:\n",
    "    print(dir(csv))\n",
    "    wt = csv.writer(f)\n",
    "    \n",
    "    print(dir(wt))\n",
    "    print(type(wt))\n",
    "    \n",
    "    \n",
    "    for v in w:\n",
    "        wt.writerow(v)\n",
    "        \n",
    "        \n",
    "        \n",
    "with open('writetest2.csv', 'w', encoding='UTF-8') as f:\n",
    "    fields = ['One', 'Two', 'Three']\n",
    "    wt = csv.DictWriter(f, fieldnames=fields)\n",
    "    wt.writeheader()\n",
    "    for v in w:\n",
    "        wt.writerow({'One': v[0], 'Two': v[1], 'Three': v[2]})"
   ]
  }
 ],
 "metadata": {
  "kernelspec": {
   "display_name": "Python 3",
   "language": "python",
   "name": "python3"
  },
  "language_info": {
   "codemirror_mode": {
    "name": "ipython",
    "version": 3
   },
   "file_extension": ".py",
   "mimetype": "text/x-python",
   "name": "python",
   "nbconvert_exporter": "python",
   "pygments_lexer": "ipython3",
   "version": "3.8.5"
  }
 },
 "nbformat": 4,
 "nbformat_minor": 4
}
