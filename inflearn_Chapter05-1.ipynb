{
 "cells": [
  {
   "cell_type": "code",
   "execution_count": 9,
   "metadata": {},
   "outputs": [
    {
     "name": "stdout",
     "output_type": "stream",
     "text": [
      "Hello,  Goodboy\n",
      "Hello,Goodboy2\n",
      "100 200 300\n",
      "<class 'tuple'> (200, 400, 600) [200, 400, 600]\n",
      "<class 'list'> [200, 400, 600] {200, 600, 400}\n"
     ]
    }
   ],
   "source": [
    "# 함수 및 람다\n",
    "\n",
    "# 정의\n",
    "# def function_name (parameter):\n",
    "#     code\n",
    "\n",
    "# 1\n",
    "def first_func(w):\n",
    "    print(\"Hello, \", w)\n",
    "    \n",
    "word = 'Goodboy'\n",
    "\n",
    "first_func(word)   #first_func() 인수를 지정해놓고 매개변수를 넘기지 않으면 에러가 난다\n",
    "\n",
    "\n",
    "# 2\n",
    "def return_func(w1):\n",
    "    return \"Hello,\" + str(w1)\n",
    "\n",
    "x = return_func('Goodboy2')\n",
    "print(x)\n",
    "\n",
    "\n",
    "# 3 다중반환\n",
    "def func_mul(x):\n",
    "    y1 = x * 10\n",
    "    y2 = x * 20\n",
    "    y3 = x * 30\n",
    "    return y1, y2, y3\n",
    "\n",
    "x, y, z = func_mul(10)   # unpacking\n",
    "print(x, y, z)\n",
    "\n",
    "\n",
    "# 4 튜플리턴\n",
    "def func_mul2(x):\n",
    "    y1 = x * 10\n",
    "    y2 = x * 20\n",
    "    y3 = x * 30\n",
    "    return (y1, y2, y3)\n",
    "\n",
    "q = func_mul2(20)\n",
    "print(type(q), q, list(q))\n",
    "\n",
    "# 5 리스트 리턴\n",
    "def func_mul3(x):\n",
    "    y1 = x * 10\n",
    "    y2 = x * 20\n",
    "    y3 = x * 30\n",
    "    return [y1, y2, y3]\n",
    "\n",
    "p = func_mul3(20)\n",
    "print(type(p), p, set(p))\n"
   ]
  },
  {
   "cell_type": "code",
   "execution_count": 15,
   "metadata": {},
   "outputs": [
    {
     "name": "stdout",
     "output_type": "stream",
     "text": [
      "Result: 0 Lee\n",
      "----------------------\n",
      "Result: 0 Lee\n",
      "Result: 1 Park\n",
      "----------------------\n",
      "Result: 0 Lee\n",
      "Result: 1 Park\n",
      "Result: 2 Kim\n",
      "----------------------\n",
      "name1 Lee\n",
      "-------------------\n",
      "name1 Lee\n",
      "name2 Park\n",
      "-------------------\n",
      "name1 Lee\n",
      "name2 Park\n",
      "name3 Cho\n",
      "-------------------\n"
     ]
    }
   ],
   "source": [
    "# 중요\n",
    "# *args, **kwargs\n",
    "\n",
    "# *args(언팩킹)\n",
    "def args_func(*args):\n",
    "    for i, v in enumerate(args):\n",
    "        print('Result: {}'.format(i), v)\n",
    "    print('----------------------')\n",
    "\n",
    "args_func('Lee')\n",
    "args_func('Lee', 'Park')\n",
    "args_func('Lee', 'Park', 'Kim')\n",
    "\n",
    "\n",
    "\n",
    "# **kwargs (언팩킹)\n",
    "def kwargs_func(**kwargs):\n",
    "    for v in kwargs.keys():\n",
    "        print('{}'.format(v), kwargs[v])\n",
    "    print('-------------------')\n",
    "    \n",
    "kwargs_func(name1='Lee')\n",
    "kwargs_func(name1='Lee', name2='Park')\n",
    "kwargs_func(name1='Lee', name2='Park', name3='Cho')"
   ]
  },
  {
   "cell_type": "code",
   "execution_count": 1,
   "metadata": {},
   "outputs": [
    {
     "name": "stdout",
     "output_type": "stream",
     "text": [
      "10 20 ('Lee', 'Kim', 'Park', 'Cho') {'age1': 20, 'age2': 30, 'age3': 40}\n",
      "In func\n",
      "200\n"
     ]
    }
   ],
   "source": [
    "# 전체 혼합\n",
    "def example(args_1, args_2, *args, **kwargs):\n",
    "    print(args_1, args_2, args, kwargs)\n",
    "    \n",
    "example(10, 20, 'Lee', 'Kim', 'Park', 'Cho', age1=20, age2=30, age3=40)\n",
    "\n",
    "\n",
    "# 중첩함수\n",
    "def nested_func(num):\n",
    "    def func_in_func(num1):\n",
    "        print(num1)\n",
    "    print('In func')\n",
    "    func_in_func(num + 100)\n",
    "    \n",
    "nested_func(100)"
   ]
  },
  {
   "cell_type": "code",
   "execution_count": 5,
   "metadata": {},
   "outputs": [
    {
     "name": "stdout",
     "output_type": "stream",
     "text": [
      "500\n",
      "2500\n",
      ">>>>>> 2000000\n"
     ]
    }
   ],
   "source": [
    "# 람다식 예제\n",
    "# 메모리 절약, 가독성 향상, 코드 간결\n",
    "\n",
    "# 함수는 객체 생성 -> 리소스(메모리) 할당\n",
    "# 람다는 즉시 실행 함수(Heap 초기화) -> 메모리 초기화\n",
    "# 남발 시 가독성 오히려 감소\n",
    "\n",
    "# 함수\n",
    "#def mul_func(x, y):\n",
    "#    return x * y\n",
    "\n",
    "#lamda\n",
    "#lambda x, y: x * y   # 함수이름이 없다 -> 익명 함수이다\n",
    "# a = lambda x, y: x * y   이렇게 변수에 담아서 호출 한다. a(5,6)\n",
    "\n",
    "def mul_func(x, y):\n",
    "    return x * y\n",
    "q = mul_func(10, 50)\n",
    "print(q)\n",
    "\n",
    "\n",
    "lambda_mul_func = lambda x,y:x*y\n",
    "print(lambda_mul_func(50, 50))\n",
    "\n",
    "\n",
    "\n",
    "# 함수를 인자로 받는 함수\n",
    "def func_final(x, y, func):\n",
    "    print('>>>>>>', x * y * func(100, 100))\n",
    "    \n",
    "# 람다를 직접 넘겨도 되고\n",
    "# 람다를 변수에 담아서 넘겨도 되고\n",
    "# 이름이 있는 함수를 넘겨도 된다\n",
    "                    # 그 자리에서 필요한 함수를 바로 만들기 위해 람다로 작성한다, 즉 여기서만 필요한 함수\n",
    "func_final(10, 20, lambda x,y:x*y)\n"
   ]
  }
 ],
 "metadata": {
  "kernelspec": {
   "display_name": "Python 3",
   "language": "python",
   "name": "python3"
  },
  "language_info": {
   "codemirror_mode": {
    "name": "ipython",
    "version": 3
   },
   "file_extension": ".py",
   "mimetype": "text/x-python",
   "name": "python",
   "nbconvert_exporter": "python",
   "pygments_lexer": "ipython3",
   "version": "3.8.5"
  }
 },
 "nbformat": 4,
 "nbformat_minor": 4
}
