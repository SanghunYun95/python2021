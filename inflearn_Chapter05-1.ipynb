{
 "cells": [
  {
   "cell_type": "code",
   "execution_count": 9,
   "metadata": {},
   "outputs": [
    {
     "name": "stdout",
     "output_type": "stream",
     "text": [
      "Hello,  Goodboy\n",
      "Hello,Goodboy2\n",
      "100 200 300\n",
      "<class 'tuple'> (200, 400, 600) [200, 400, 600]\n",
      "<class 'list'> [200, 400, 600] {200, 600, 400}\n"
     ]
    }
   ],
   "source": [
    "# 함수 및 람다\n",
    "\n",
    "# 정의\n",
    "# def function_name (parameter):\n",
    "#     code\n",
    "\n",
    "# 1\n",
    "def first_func(w):\n",
    "    print(\"Hello, \", w)\n",
    "    \n",
    "word = 'Goodboy'\n",
    "\n",
    "first_func(word)   #first_func() 인수를 지정해놓고 매개변수를 넘기지 않으면 에러가 난다\n",
    "\n",
    "\n",
    "# 2\n",
    "def return_func(w1):\n",
    "    return \"Hello,\" + str(w1)\n",
    "\n",
    "x = return_func('Goodboy2')\n",
    "print(x)\n",
    "\n",
    "\n",
    "# 3 다중반환\n",
    "def func_mul(x):\n",
    "    y1 = x * 10\n",
    "    y2 = x * 20\n",
    "    y3 = x * 30\n",
    "    return y1, y2, y3\n",
    "\n",
    "x, y, z = func_mul(10)   # unpacking\n",
    "print(x, y, z)\n",
    "\n",
    "\n",
    "# 4 튜플리턴\n",
    "def func_mul2(x):\n",
    "    y1 = x * 10\n",
    "    y2 = x * 20\n",
    "    y3 = x * 30\n",
    "    return (y1, y2, y3)\n",
    "\n",
    "q = func_mul2(20)\n",
    "print(type(q), q, list(q))\n",
    "\n",
    "# 5 리스트 리턴\n",
    "def func_mul3(x):\n",
    "    y1 = x * 10\n",
    "    y2 = x * 20\n",
    "    y3 = x * 30\n",
    "    return [y1, y2, y3]\n",
    "\n",
    "p = func_mul3(20)\n",
    "print(type(p), p, set(p))\n"
   ]
  },
  {
   "cell_type": "code",
   "execution_count": 14,
   "metadata": {},
   "outputs": [
    {
     "name": "stdout",
     "output_type": "stream",
     "text": [
      "Result: 0 Lee\n",
      "----------------------\n",
      "Result: 0 Lee\n",
      "Result: 1 Park\n",
      "----------------------\n",
      "Result: 0 Lee\n",
      "Result: 1 Park\n",
      "Result: 2 Kim\n",
      "----------------------\n",
      "name1 Lee\n",
      "-------------------\n",
      "name1 Lee\n",
      "name2 Park\n",
      "-------------------\n",
      "name1 Lee\n",
      "name2 Park\n",
      "name3 Cho\n",
      "-------------------\n"
     ]
    }
   ],
   "source": [
    "# 중요\n",
    "# *args, **kwargs\n",
    "\n",
    "# *args(언팩킹)\n",
    "def args_func(*args):\n",
    "    for i, v in enumerate(args):\n",
    "        print('Result: {}'.format(i), v)\n",
    "    print('----------------------')\n",
    "\n",
    "args_func('Lee')\n",
    "args_func('Lee', 'Park')\n",
    "args_func('Lee', 'Park', 'Kim')\n",
    "\n",
    "\n",
    "\n",
    "# **kwargs (언팩킹)\n",
    "def kwargs_func(**kwargs):\n",
    "    for v in kwargs.keys():\n",
    "        print('{}'.format(v), kwargs[v])\n",
    "    print('-------------------')\n",
    "    \n",
    "kwargs_func(name1='Lee')\n",
    "kwargs_func(name1='Lee', name2='Park')\n",
    "kwargs_func(name1='Lee', name2='Park', name3='Cho')"
   ]
  }
 ],
 "metadata": {
  "kernelspec": {
   "display_name": "Python 3",
   "language": "python",
   "name": "python3"
  },
  "language_info": {
   "codemirror_mode": {
    "name": "ipython",
    "version": 3
   },
   "file_extension": ".py",
   "mimetype": "text/x-python",
   "name": "python",
   "nbconvert_exporter": "python",
   "pygments_lexer": "ipython3",
   "version": "3.8.5"
  }
 },
 "nbformat": 4,
 "nbformat_minor": 4
}
