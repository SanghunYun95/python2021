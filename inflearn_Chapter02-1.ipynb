{
 "cells": [
  {
   "cell_type": "code",
   "execution_count": 1,
   "metadata": {},
   "outputs": [
    {
     "name": "stdout",
     "output_type": "stream",
     "text": [
      "python start!\n"
     ]
    }
   ],
   "source": [
    "print('python start!')"
   ]
  },
  {
   "cell_type": "code",
   "execution_count": 2,
   "metadata": {},
   "outputs": [
    {
     "name": "stdout",
     "output_type": "stream",
     "text": [
      "Python Start!\n"
     ]
    }
   ],
   "source": [
    "print(\"Python Start!\")"
   ]
  },
  {
   "cell_type": "code",
   "execution_count": 7,
   "metadata": {},
   "outputs": [
    {
     "name": "stdout",
     "output_type": "stream",
     "text": [
      "P,Y,T,H,O,N\n",
      "010-7777-1234\n",
      "Welcome to IT News "
     ]
    }
   ],
   "source": [
    "print('P', 'Y', \"T\", 'H', 'O', 'N', sep=',') \n",
    "print('010', '7777', '1234', sep='-')\n",
    "print('Welcome to', end= ' ')\n",
    "print('IT News', end=' ')"
   ]
  },
  {
   "cell_type": "code",
   "execution_count": 11,
   "metadata": {},
   "outputs": [
    {
     "name": "stdout",
     "output_type": "stream",
     "text": [
      "one two\n",
      "one 2\n",
      "two one\n"
     ]
    }
   ],
   "source": [
    "# format 사용 (d 정수, s 문자열, f소수(float))\n",
    "print('%s %s' % ('one', 'two'))\n",
    "print('{} {}'.format('one', 2))\n",
    "print('{1} {0}'.format('one', 'two')) "
   ]
  },
  {
   "cell_type": "code",
   "execution_count": 22,
   "metadata": {},
   "outputs": [
    {
     "name": "stdout",
     "output_type": "stream",
     "text": [
      "      node\n",
      "      nice\n",
      "node      \n",
      "nice      \n",
      "$$$$$$nice\n",
      "   nice   \n",
      "pyton\n",
      "pytonStudy\n",
      "pyton     \n"
     ]
    }
   ],
   "source": [
    "# %s\n",
    "print('%10s' % ('node')) #10 자리를 확보한 후, 4글자를 뺀 나머지 만큼은 왼쪽부터 공백으로 채운다.\n",
    "print('{:>10}'.format('nice')) #> 왼쪽이라고 명시\n",
    "\n",
    "print('%-10s' % ('node')) #10 자리를 확보한 후, 4글자 왼쪽부터 채운다.\n",
    "print('{:10}'.format('nice')) \n",
    "\n",
    "print('{:$>10}'.format('nice')) # $로 먼저 채운다\n",
    "print('{:^10}'.format('nice')) # ^ 중앙정렬 \n",
    "\n",
    "print('%.5s' % ('pytonStudy')) # .찍으면 5개 절삭 \n",
    "print('%5s' % ('pytonStudy'))  # .이 없으면 자릿수를 5개로 했어도 다 출력된다\n",
    "\n",
    "print('{:10.5}'.format('pytonStudy')) # 자리는 10개지만 5개만 절삭한다\n"
   ]
  },
  {
   "cell_type": "code",
   "execution_count": 30,
   "metadata": {},
   "outputs": [
    {
     "name": "stdout",
     "output_type": "stream",
     "text": [
      "1 2\n",
      "  42\n",
      "  42\n",
      "3.143443\n",
      "3.14344343\n",
      "003.14\n",
      "003.14\n"
     ]
    }
   ],
   "source": [
    "# %d\n",
    "print('%d %d' % (1,2))\n",
    "print('%4d' % (42))\n",
    "print('{:4d}'.format(42))  # 정수의 경우에는 d를 꼭 붙여줘야 한다\n",
    "\n",
    "# %f\n",
    "print('%f' % (3.1434434343434334))\n",
    "print('%1.8f' % (3.1434434343434334))  # 1정수부   8소수부     각  자릿수 지정\n",
    "\n",
    "print('%06.2f' % (3.141592653589793))  # 003.14   --> 총 6자리이고 정수부는 1개 이기 때문에 003으로 채우고 남는 두자리는 소수부로 채웠다\n",
    "print('{:06.2f}'.format(3.141592653589793))"
   ]
  }
 ],
 "metadata": {
  "kernelspec": {
   "display_name": "Python 3",
   "language": "python",
   "name": "python3"
  },
  "language_info": {
   "codemirror_mode": {
    "name": "ipython",
    "version": 3
   },
   "file_extension": ".py",
   "mimetype": "text/x-python",
   "name": "python",
   "nbconvert_exporter": "python",
   "pygments_lexer": "ipython3",
   "version": "3.8.5"
  }
 },
 "nbformat": 4,
 "nbformat_minor": 4
}
