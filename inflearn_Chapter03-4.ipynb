{
 "cells": [
  {
   "cell_type": "code",
   "execution_count": 4,
   "metadata": {},
   "outputs": [
    {
     "name": "stdout",
     "output_type": "stream",
     "text": [
      "<class 'tuple'> <class 'int'> <class 'tuple'> <class 'tuple'>\n"
     ]
    }
   ],
   "source": [
    "# 튜플\n",
    "# 순서 o, 중복 o, 수정 x, 삭제 x\n",
    "# 불변!\n",
    "\n",
    "# 선언\n",
    "a = ()\n",
    "b = (1) # 원소가 한개인 경우 마지막에 ','를 찍어줘야 tuple로 인식한다\n",
    "c = (1,)\n",
    "d = (1,2)\n",
    "print(type(a), type(b), type(c), type(d))\n",
    "\n",
    "# 수정 x\n",
    "#d[0] = 1500      Error : tuple dose not supprt itme assignment"
   ]
  },
  {
   "cell_type": "code",
   "execution_count": 5,
   "metadata": {},
   "outputs": [
    {
     "name": "stdout",
     "output_type": "stream",
     "text": [
      "<class 'str'> <class 'str'> <class 'str'> <class 'str'>\n",
      "foo bar baz qux\n"
     ]
    }
   ],
   "source": [
    "# 팩킹, 언팩킹\n",
    "\n",
    "# Packing\n",
    "t = ('foo', 'bar', 'baz', 'qux')\n",
    "\n",
    "# Unpacking\n",
    "(x1, x2, x3, x4) = t\n",
    "print(type(x1), type(x2), type(x3),type(x4))\n",
    "print(x1, x2, x3, x4)\n",
    "\n",
    "\n",
    "# 괄호는 생략 가능하다\n",
    "t2 = 1, 2, 3    # tuple   (1, 2, 3)과 같음\n",
    "t3 = 4,\n",
    "x1, x2, x3 = t2\n",
    "x4, x5, x6 = 4, 5, 6"
   ]
  }
 ],
 "metadata": {
  "kernelspec": {
   "display_name": "Python 3",
   "language": "python",
   "name": "python3"
  },
  "language_info": {
   "codemirror_mode": {
    "name": "ipython",
    "version": 3
   },
   "file_extension": ".py",
   "mimetype": "text/x-python",
   "name": "python",
   "nbconvert_exporter": "python",
   "pygments_lexer": "ipython3",
   "version": "3.8.5"
  }
 },
 "nbformat": 4,
 "nbformat_minor": 4
}
