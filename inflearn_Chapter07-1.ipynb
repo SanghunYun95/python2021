{
 "cells": [
  {
   "cell_type": "code",
   "execution_count": 7,
   "metadata": {},
   "outputs": [
    {
     "name": "stdout",
     "output_type": "stream",
     "text": [
      "Kim Found it! 1 in name\n",
      "OK\n",
      "\n",
      "Not found - Value Error\n",
      "\n",
      "'Cho' is not in list\n",
      "Not found - Value Error\n",
      "Final\n",
      "\n",
      "Exception Occured\n"
     ]
    }
   ],
   "source": [
    "# Exception\n",
    "# SyntaxError, TypeError, NameError, IndexError, ValueError, KeyError.....\n",
    "\n",
    "# 예외 처리\n",
    "# try: 에러가 발생 할 가능성이 있는 코드 실행\n",
    "# except 에러명1: 여러개 가능\n",
    "# except 에러명2:\n",
    "# else: try 블록의 에러가 없을 경우 실행\n",
    "# finally: 항상 실행\n",
    "\n",
    "name = ['Kim', 'Lee', 'Park']\n",
    "\n",
    "# 1번과 같이 정확한 에러명을 써주는게 가장 좋다\n",
    "# 1\n",
    "try:\n",
    "    z = 'Kim'\n",
    "    x = name.index(z)\n",
    "    print('{} Found it! {} in name'.format(z, x + 1))\n",
    "except ValueError:\n",
    "    print('Not found - Value Error')\n",
    "else: \n",
    "    print('OK')\n",
    "print()\n",
    "\n",
    "\n",
    "# 2\n",
    "try:\n",
    "    z = 'Cho'\n",
    "    x = name.index(z)\n",
    "    print('{} Found it! {} in name'.format(z, x + 1))\n",
    "except: # 모든 에러를 잡는다. 또는 except: Exception 대신 어떤 에러인지는 확인을 못한다\n",
    "    print('Not found - Value Error')\n",
    "else: \n",
    "    print('OK')\n",
    "print()\n",
    "\n",
    "# 3\n",
    "try:\n",
    "    z = 'Cho'\n",
    "    x = name.index(z)\n",
    "    print('{} Found it! {} in name'.format(z, x + 1))\n",
    "except Exception as e:\n",
    "    print(e) # 에러 내용 표시\n",
    "    print('Not found - Value Error')\n",
    "else: \n",
    "    print('OK')\n",
    "finally:     # 소켓에러가 나던 안나던 무조건 연결을 끊어서 pool이 꽉 차는것을 방지한다던지...\n",
    "    print('Final')\n",
    "print()\n",
    "\n",
    "# 4\n",
    "# raise로 예외 발생\n",
    "try:\n",
    "    a = 'Park'\n",
    "    if a == 'Lim':\n",
    "        print('ok, Lim')\n",
    "    else:\n",
    "        raise ValueError\n",
    "except ValueError:\n",
    "    print('Exception Occured')\n",
    "else:\n",
    "    print('done')"
   ]
  }
 ],
 "metadata": {
  "kernelspec": {
   "display_name": "Python 3",
   "language": "python",
   "name": "python3"
  },
  "language_info": {
   "codemirror_mode": {
    "name": "ipython",
    "version": 3
   },
   "file_extension": ".py",
   "mimetype": "text/x-python",
   "name": "python",
   "nbconvert_exporter": "python",
   "pygments_lexer": "ipython3",
   "version": "3.8.5"
  }
 },
 "nbformat": 4,
 "nbformat_minor": 4
}
