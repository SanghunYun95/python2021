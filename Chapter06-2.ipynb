{
 "cells": [
  {
   "cell_type": "code",
   "execution_count": 3,
   "metadata": {},
   "outputs": [
    {
     "name": "stdout",
     "output_type": "stream",
     "text": [
      "---------------\n",
      "10\n",
      "0\n",
      "25\n",
      "0\n",
      "1.0\n",
      "3125\n"
     ]
    }
   ],
   "source": [
    "# Module \n",
    "# 함수, 변수, 클래스 등 파이썬 구성 요소 등을 모아놓은 파일\n",
    "\n",
    "def add(x,y):\n",
    "    return x+y\n",
    "\n",
    "def subtract(x,y):\n",
    "    return x-y\n",
    "\n",
    "def multiply(x,y):\n",
    "    return x*y\n",
    "\n",
    "def divide(x,y):\n",
    "    return x/y\n",
    "\n",
    "def power(x,y):\n",
    "    return x**y  \n",
    "\n",
    "\n",
    "\n",
    "## 만약 이런코드가 있을 때, 외부에서 이파일을 import하면 바로 아래 코드가 실행되어 버린다.\n",
    "# print('-' * 15)\n",
    "# print(add(5,5))\n",
    "# print(subtract(5,5))\n",
    "# print(multiply(5,5))\n",
    "# print(subtract(5,5))\n",
    "# print(divide(5,5))\n",
    "# print(power(5,5))\n",
    "# print('-' * 15)\n",
    "\n",
    "\n",
    "# 여기서 직접 실행할 때만 동작한다.\n",
    "# 다른 경로에서 실행하는경우 (import)에는 동작하지 않음\n",
    "# 이런식으로 테스트 코드를 적어둔다\n",
    "if __name__ == '__main__':\n",
    "    print('-' * 15)\n",
    "    print(add(5,5))\n",
    "    print(subtract(5,5))\n",
    "    print(multiply(5,5))\n",
    "    print(subtract(5,5))\n",
    "    print(divide(5,5))\n",
    "    print(power(5,5))\n",
    "    print('-' * 15)\n",
    "\n",
    "\n",
    "\n",
    "\n"
   ]
  }
 ],
 "metadata": {
  "kernelspec": {
   "display_name": "Python 3",
   "language": "python",
   "name": "python3"
  },
  "language_info": {
   "codemirror_mode": {
    "name": "ipython",
    "version": 3
   },
   "file_extension": ".py",
   "mimetype": "text/x-python",
   "name": "python",
   "nbconvert_exporter": "python",
   "pygments_lexer": "ipython3",
   "version": "3.8.5"
  }
 },
 "nbformat": 4,
 "nbformat_minor": 4
}
