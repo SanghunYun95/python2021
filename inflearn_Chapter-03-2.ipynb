{
 "cells": [
  {
   "cell_type": "code",
   "execution_count": 15,
   "metadata": {},
   "outputs": [
    {
     "name": "stdout",
     "output_type": "stream",
     "text": [
      "11\n",
      "<class 'str'> 0\n",
      "<class 'str'> 0\n",
      "I'm a Boy\n",
      "a''b\n",
      "D:\\python\\test\n",
      "\n",
      "String\n",
      "Multi\n",
      "Line\n",
      "Test\n",
      "\n",
      "\n",
      "String\n",
      "Multi\n",
      "Line\n",
      "Test\n",
      "\n",
      "asdsadasdsadvcxvxcvxcgfdgfd\n"
     ]
    }
   ],
   "source": [
    "# 문자형\n",
    "str1 = 'I am Python'\n",
    "print(len(str1))\n",
    "\n",
    "\n",
    "# 빈 문자열\n",
    "str2 = ''\n",
    "str3 = str()\n",
    "\n",
    "print(type(str2), len(str2))\n",
    "print(type(str3), len(str3))\n",
    "\n",
    "# 이스케이프\n",
    "print('I\\'m a Boy') # I'm a Boy\n",
    "print('a\\'\\'b') # a''b\n",
    "\n",
    "# Raw String\n",
    "raw_str1 = r'D:\\python\\test' #있는 그래도 출력, OS에 따른 파일 경로 출력 등\n",
    "print(raw_str1)\n",
    "\n",
    "# 멀티라인     \n",
    "# 역슬래쉬를 넣어주면 \\ 다음에 오는 것과 바인딩을 해준다\n",
    "multi_line = \\\n",
    "'''\n",
    "String\n",
    "Multi\n",
    "Line\n",
    "Test\n",
    "'''\n",
    "\n",
    "multi_line_noslah ='''\n",
    "String\n",
    "Multi\n",
    "Line\n",
    "Test\n",
    "'''\n",
    "\n",
    "print(multi_line)\n",
    "print(multi_line_noslah)\n",
    "\n",
    "\n",
    "str_slash = 'asdsadasd'\\\n",
    "'sadvcxvxcvxc'\\\n",
    "'gfdgfd'\n",
    "\n",
    "print(str_slash)"
   ]
  },
  {
   "cell_type": "code",
   "execution_count": 22,
   "metadata": {},
   "outputs": [
    {
     "name": "stdout",
     "output_type": "stream",
     "text": [
      "PythonPythonPython\n",
      "PythonApple\n",
      "True\n",
      "False\n"
     ]
    }
   ],
   "source": [
    "# 문자열 연산\n",
    "str_o1 = 'Python'\n",
    "str_o2 = 'Apple'\n",
    "str_o3 = 'How are you doing?'\n",
    "\n",
    "print(str_o1 * 3)\n",
    "print(str_o1 + str_o2)\n",
    "print('y' in str_o1)\n",
    "print('P' in str_o2)"
   ]
  },
  {
   "cell_type": "code",
   "execution_count": 29,
   "metadata": {},
   "outputs": [
    {
     "name": "stdout",
     "output_type": "stream",
     "text": [
      "Capitalize :  Dream\n",
      "ends with? :  False\n",
      "sorted :  ['P', 'h', 'n', 'o', 't', 'y']\n",
      "['__add__', '__class__', '__contains__', '__delattr__', '__dir__', '__doc__', '__eq__', '__format__', '__ge__', '__getattribute__', '__getitem__', '__getnewargs__', '__gt__', '__hash__', '__init__', '__init_subclass__', '__iter__', '__le__', '__len__', '__lt__', '__mod__', '__mul__', '__ne__', '__new__', '__reduce__', '__reduce_ex__', '__repr__', '__rmod__', '__rmul__', '__setattr__', '__sizeof__', '__str__', '__subclasshook__', 'capitalize', 'casefold', 'center', 'count', 'encode', 'endswith', 'expandtabs', 'find', 'format', 'format_map', 'index', 'isalnum', 'isalpha', 'isascii', 'isdecimal', 'isdigit', 'isidentifier', 'islower', 'isnumeric', 'isprintable', 'isspace', 'istitle', 'isupper', 'join', 'ljust', 'lower', 'lstrip', 'maketrans', 'partition', 'replace', 'rfind', 'rindex', 'rjust', 'rpartition', 'rsplit', 'rstrip', 'split', 'splitlines', 'startswith', 'strip', 'swapcase', 'title', 'translate', 'upper', 'zfill']\n"
     ]
    }
   ],
   "source": [
    "# 문자열 함수 (uppper, isalnum, startwith, count, endswith, isalpha ....)\n",
    "sss = 'dream'\n",
    "print('Capitalize : ', sss.capitalize())\n",
    "print('ends with? : ', str_o2.endswith('.'))\n",
    "print('sorted : ', sorted(str_o1)) # 리스트로 반환\n",
    "\n",
    "im_str = 'Good Day!'\n",
    "print(dir(im_str)) # 속성의 나열\n"
   ]
  }
 ],
 "metadata": {
  "kernelspec": {
   "display_name": "Python 3",
   "language": "python",
   "name": "python3"
  },
  "language_info": {
   "codemirror_mode": {
    "name": "ipython",
    "version": 3
   },
   "file_extension": ".py",
   "mimetype": "text/x-python",
   "name": "python",
   "nbconvert_exporter": "python",
   "pygments_lexer": "ipython3",
   "version": "3.8.5"
  }
 },
 "nbformat": 4,
 "nbformat_minor": 4
}
