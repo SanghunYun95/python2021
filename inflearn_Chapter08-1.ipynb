{
 "cells": [
  {
   "cell_type": "code",
   "execution_count": 29,
   "metadata": {},
   "outputs": [
    {
     "name": "stdout",
     "output_type": "stream",
     "text": [
      "True\n",
      "True\n",
      "True\n",
      "0 abc\n",
      "1 ddd\n",
      "2 sgf\n",
      "[-3, -5, 5, 6]\n",
      "[-3, -5, 5, 6]\n",
      "[1, 3, 2, 0, 5, 6]\n",
      "[1, 3, 2, 0, 5, 6]\n",
      "\n",
      "[1, 3, 5, 7, 9]\n",
      "[0, -1, -2, -3, -4, -5, -6, -7, -8, -9, -10, -11, -12, -13, -14]\n",
      "[1, 2, 3, 4, 6, 7]\n",
      "[(19, 40), (29, 50)]\n"
     ]
    }
   ],
   "source": [
    "# Built-in 함수\n",
    "\n",
    "# all, any: iterable 요소 검사(참, 거짓)\n",
    "print(all([1,2,3]))\n",
    "# any 하나라도 True가 있다면 True\n",
    "print(any([1,2,0]))\n",
    "print(any([1,2,False]))\n",
    "\n",
    "# enumerate: index + Iterable Object\n",
    "for i, name in enumerate(['abc', 'ddd', 'sgf']):\n",
    "    print(i, name)\n",
    "    \n",
    "# filter\n",
    "def conv_pos(x):\n",
    "    return abs(x) > 2\n",
    "\n",
    "# filter object 자체가 결과로 리턴된다\n",
    "# list()를 사용해서 알아보기 쉽게 list헝태로 변환한다\n",
    "# filter내부에는 함수 자체를 넣는다, filter에서 알아서 호출\n",
    "# conv_pos()이렇게 호출해서 넣는게 아님\n",
    "print(list(filter(conv_pos, [1, -3, 2, 0 ,-5, 5, 6])))\n",
    "\n",
    "# lamda로 변환\n",
    "print(list(filter(lambda x:abs(x)>2, [1, -3, 2, 0 ,-5, 5, 6])))\n",
    "\n",
    "\n",
    "\n",
    "# map: 반복가능한 객체 요소를 지정한 함수 실행 후 구출\n",
    "def conv_abs(x):\n",
    "    return abs(x)\n",
    "\n",
    "print(list(map(conv_abs, [1, -3, 2, 0, -5, 6])))\n",
    "print(list(map(lambda x:abs(x), [1, -3, 2, 0, -5, 6])))\n",
    "\n",
    "print()\n",
    "\n",
    "# range: 반복가능 한 객체 반환\n",
    "print(list(range(1,10,2)))\n",
    "print(list(range(0,-15,-1)))\n",
    "\n",
    "# sorted\n",
    "print(sorted([6, 7, 4, 3, 1, 2]))\n",
    "\n",
    "# sum\n",
    "#print(sum([6,7,8,9,10])\n",
    "#print(sum(range(1,101)))\n",
    " \n",
    "# zip: 반복가능한 객체의 요소를 묶어서 변환   짝이 맞는것끼리\n",
    "print(list(zip([19,29,39], [40,50])))\n",
    "      "
   ]
  }
 ],
 "metadata": {
  "kernelspec": {
   "display_name": "Python 3",
   "language": "python",
   "name": "python3"
  },
  "language_info": {
   "codemirror_mode": {
    "name": "ipython",
    "version": 3
   },
   "file_extension": ".py",
   "mimetype": "text/x-python",
   "name": "python",
   "nbconvert_exporter": "python",
   "pygments_lexer": "ipython3",
   "version": "3.8.5"
  }
 },
 "nbformat": 4,
 "nbformat_minor": 4
}
