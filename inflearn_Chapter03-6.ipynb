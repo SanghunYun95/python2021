{
 "cells": [
  {
   "cell_type": "code",
   "execution_count": 6,
   "metadata": {},
   "outputs": [
    {
     "name": "stdout",
     "output_type": "stream",
     "text": [
      "intersection :  {4, 5, 6}\n",
      "intersection :  {4, 5, 6}\n",
      "union :  {1, 2, 3, 4, 5, 6, 7, 8, 9}\n",
      "union :  {1, 2, 3, 4, 5, 6, 7, 8, 9}\n",
      "difference :  {1, 2, 3}\n",
      "difference :  {1, 2, 3}\n",
      "joint :  False\n",
      "subset :  False\n",
      "superset :  False\n"
     ]
    }
   ],
   "source": [
    "# Set\n",
    "# 순서 x, 중복 x\n",
    "a = set()\n",
    "b = set([1, 2, 3, 'Pen'])\n",
    "c = {'foo', 'bar'} # Dictionary처럼 {}를 사용하지만 key가 없다면 Set이 된다\n",
    "\n",
    "s1 = set([1, 2, 3, 4, 5, 6])\n",
    "s2 = set([4, 5, 6, 7, 8, 9])\n",
    "\n",
    "# 교집합 \n",
    "print('intersection : ', s1 & s2)\n",
    "print('intersection : ', s1.intersection(s2))\n",
    "# 합집합\n",
    "print('union : ', s1 | s2)\n",
    "print('union : ', s1.union(s2))\n",
    "# 차집합\n",
    "print('difference : ', s1 - s2)\n",
    "print('difference : ', s1.difference(s2)) # {1, 2, 3 , 4, 5, 6}에서 {4, 5, 6, 7, 8, 9}와 교차하지 않는것 {1, 2, 3}\n",
    "# 중복원소 확인\n",
    "print('joint : ', s1.isdisjoint(s2)) # False: 중복 원소 있음, True: 없음\n",
    "# 부분 집합 확인\n",
    "print('subset : ', s1.issubset(s2))\n",
    "print('superset : ', s1.issuperset(s2))"
   ]
  },
  {
   "cell_type": "code",
   "execution_count": 12,
   "metadata": {},
   "outputs": [
    {
     "name": "stdout",
     "output_type": "stream",
     "text": [
      "{1, 2, 3, 4}\n",
      "{1, 3, 4}\n",
      "{1, 4}\n",
      "set()\n"
     ]
    }
   ],
   "source": [
    "# 추가\n",
    "s = set([1, 2, 3])\n",
    "s.add(4)\n",
    "print(s)\n",
    "\n",
    "# 삭제\n",
    "# remove로 없는 것을 삭제하려 하면 예외가 난다\n",
    "s.remove(2)\n",
    "print(s)\n",
    "# discard는 없는 것을 지운다해도 예외가 나지 않는다\n",
    "s.discard(3)\n",
    "print(s)\n",
    "\n",
    "s.clear()\n",
    "print(s)"
   ]
  }
 ],
 "metadata": {
  "kernelspec": {
   "display_name": "Python 3",
   "language": "python",
   "name": "python3"
  },
  "language_info": {
   "codemirror_mode": {
    "name": "ipython",
    "version": 3
   },
   "file_extension": ".py",
   "mimetype": "text/x-python",
   "name": "python",
   "nbconvert_exporter": "python",
   "pygments_lexer": "ipython3",
   "version": "3.8.5"
  }
 },
 "nbformat": 4,
 "nbformat_minor": 4
}
